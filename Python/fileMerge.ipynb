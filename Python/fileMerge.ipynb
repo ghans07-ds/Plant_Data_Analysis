{
 "cells": [
  {
   "cell_type": "code",
   "execution_count": 1,
   "metadata": {},
   "outputs": [],
   "source": [
    "import pandas as pd"
   ]
  },
  {
   "cell_type": "code",
   "execution_count": 15,
   "metadata": {},
   "outputs": [],
   "source": [
    "list_plants=[\"Benzenoids\",\"Hydrocarbon_derivatives\",\"Hydrocarbons\",\"Lignans,neolignans and related\",\n",
    "             \"Lipids and lipid-like molecule\",\"Nucleoside,nucleotide and analo\",\n",
    "             \"organic acid and derivatives\",\"organic nitrogen compounds\",\"organic oxygen compounds\",\n",
    "             \"organoheterocyclic compounds\",\"organosulfur compound\",\"phenylpropenoids and phenylketi\"]"
   ]
  },
  {
   "cell_type": "code",
   "execution_count": 17,
   "metadata": {},
   "outputs": [],
   "source": [
    "plants_file=[]\n",
    "mainFile=pd.DataFrame()\n",
    "for i in range(len(list_plants)):\n",
    "    file=pd.read_csv(\"E://DATA Science//komal//f_done//\"+list_plants[i]+\".csv\",encoding='latin1')\n",
    "    file['fileName']=[list_plants[i]]*len(file)\n",
    "    if i==0:\n",
    "        mainFile=file\n",
    "    else:\n",
    "        mainFile=pd.concat([mainFile,file])\n",
    "# mainFile.drop(['Unnamed: 0'],inplace=True)\n",
    "mainFile.reset_index(drop=True,inplace=True)"
   ]
  },
  {
   "cell_type": "code",
   "execution_count": 24,
   "metadata": {},
   "outputs": [
    {
     "name": "stderr",
     "output_type": "stream",
     "text": [
      "C:\\Users\\dell\\Anaconda3\\lib\\site-packages\\ipykernel_launcher.py:3: SettingWithCopyWarning: \n",
      "A value is trying to be set on a copy of a slice from a DataFrame\n",
      "\n",
      "See the caveats in the documentation: http://pandas.pydata.org/pandas-docs/stable/user_guide/indexing.html#returning-a-view-versus-a-copy\n",
      "  This is separate from the ipykernel package so we can avoid doing imports until\n"
     ]
    }
   ],
   "source": [
    "for i in range(len(mainFile)):\n",
    "    if \"+\" in mainFile['ID'][i]:\n",
    "        mainFile['ID'][i]=mainFile['PDB ID '][i][0:4]"
   ]
  },
  {
   "cell_type": "code",
   "execution_count": 29,
   "metadata": {},
   "outputs": [
    {
     "name": "stdout",
     "output_type": "stream",
     "text": [
      "- 3qo6 564\n",
      "-1jot 567\n"
     ]
    },
    {
     "name": "stderr",
     "output_type": "stream",
     "text": [
      "C:\\Users\\dell\\Anaconda3\\lib\\site-packages\\ipykernel_launcher.py:4: SettingWithCopyWarning: \n",
      "A value is trying to be set on a copy of a slice from a DataFrame\n",
      "\n",
      "See the caveats in the documentation: http://pandas.pydata.org/pandas-docs/stable/user_guide/indexing.html#returning-a-view-versus-a-copy\n",
      "  after removing the cwd from sys.path.\n",
      "C:\\Users\\dell\\Anaconda3\\lib\\site-packages\\ipykernel_launcher.py:5: SettingWithCopyWarning: \n",
      "A value is trying to be set on a copy of a slice from a DataFrame\n",
      "\n",
      "See the caveats in the documentation: http://pandas.pydata.org/pandas-docs/stable/user_guide/indexing.html#returning-a-view-versus-a-copy\n",
      "  \"\"\"\n"
     ]
    }
   ],
   "source": [
    "for i in range(len(mainFile)):\n",
    "    if \"-\" in mainFile['ID'][i]:\n",
    "        continue;\n",
    "#         print(mainFile['ID'][i],i)\n",
    "mainFile['ID'][564]=\"3qo6\"\n",
    "mainFile['ID'][567]=\"1jot\""
   ]
  },
  {
   "cell_type": "code",
   "execution_count": 34,
   "metadata": {},
   "outputs": [],
   "source": [
    "mainFile.sort_values(\"NAME\", axis = 0, ascending = True, inplace = True, na_position ='last')\n",
    "mainFile.drop([\"Unnamed: 0\"],axis=1,inplace=True)\n",
    "mainFile.reset_index(drop=True,inplace=True)"
   ]
  },
  {
   "cell_type": "code",
   "execution_count": 35,
   "metadata": {},
   "outputs": [],
   "source": [
    "mainFile.drop([\"Unnamed: 0\"],axis=1,inplace=True)\n",
    "mainFile.reset_index(drop=True,inplace=True)"
   ]
  },
  {
   "cell_type": "code",
   "execution_count": 37,
   "metadata": {},
   "outputs": [
    {
     "data": {
      "text/html": [
       "<div>\n",
       "<style scoped>\n",
       "    .dataframe tbody tr th:only-of-type {\n",
       "        vertical-align: middle;\n",
       "    }\n",
       "\n",
       "    .dataframe tbody tr th {\n",
       "        vertical-align: top;\n",
       "    }\n",
       "\n",
       "    .dataframe thead th {\n",
       "        text-align: right;\n",
       "    }\n",
       "</style>\n",
       "<table border=\"1\" class=\"dataframe\">\n",
       "  <thead>\n",
       "    <tr style=\"text-align: right;\">\n",
       "      <th></th>\n",
       "      <th>D_name</th>\n",
       "      <th>NAME</th>\n",
       "      <th>Common Name</th>\n",
       "      <th>SUPERCLASS</th>\n",
       "      <th>CLASSS</th>\n",
       "      <th>Compound Name</th>\n",
       "      <th>Compound synonames</th>\n",
       "      <th>Pubchem CID</th>\n",
       "      <th>Target Gene</th>\n",
       "      <th>PDB ID</th>\n",
       "      <th>ID</th>\n",
       "      <th>score</th>\n",
       "      <th>fileName</th>\n",
       "    </tr>\n",
       "  </thead>\n",
       "  <tbody>\n",
       "    <tr>\n",
       "      <td>0</td>\n",
       "      <td>Lipids_and_lipid-like_molecule</td>\n",
       "      <td>Aconitum heterophyllum</td>\n",
       "      <td>Greenish Himalayan Monkshood</td>\n",
       "      <td>Lipids and lipid-like molecules</td>\n",
       "      <td>Prenol lipids</td>\n",
       "      <td>aconitine</td>\n",
       "      <td>ACONITINE;ACONITINE;ACONITINE;ACONITINES;ACONI...</td>\n",
       "      <td>118705467</td>\n",
       "      <td>KCNH2</td>\n",
       "      <td>1byw(-4.8)</td>\n",
       "      <td>1byw</td>\n",
       "      <td>4.8</td>\n",
       "      <td>Lipids and lipid-like molecule</td>\n",
       "    </tr>\n",
       "    <tr>\n",
       "      <td>1</td>\n",
       "      <td>Lipids_and_lipid-like_molecule</td>\n",
       "      <td>Aconitum heterophyllum</td>\n",
       "      <td>Â Greenish Himalayan Monkshood</td>\n",
       "      <td>Lipids and lipid-like molecules</td>\n",
       "      <td>Â Prenol lipids</td>\n",
       "      <td>Hypaconitine</td>\n",
       "      <td>Â HYPACONITINE;HYPACONITINE;HYPACONITINE;HYPAC...</td>\n",
       "      <td>10008952</td>\n",
       "      <td>ABCB1</td>\n",
       "      <td>1ujl(-7.7)</td>\n",
       "      <td>1ujl</td>\n",
       "      <td>7.7</td>\n",
       "      <td>Lipids and lipid-like molecule</td>\n",
       "    </tr>\n",
       "    <tr>\n",
       "      <td>2</td>\n",
       "      <td>Lipids_and_lipid-like_molecule</td>\n",
       "      <td>Aconitum heterophyllum</td>\n",
       "      <td>Â Greenish Himalayan Monkshood</td>\n",
       "      <td>Lipids and lipid-like molecules</td>\n",
       "      <td>Â Prenol lipids</td>\n",
       "      <td>Hypaconitine</td>\n",
       "      <td>Â HYPACONITINE;HYPACONITINE;HYPACONITINE;HYPAC...</td>\n",
       "      <td>10008952</td>\n",
       "      <td>ABCB1</td>\n",
       "      <td>3ukv(-11.7)</td>\n",
       "      <td>3ukv</td>\n",
       "      <td>11.7</td>\n",
       "      <td>Lipids and lipid-like molecule</td>\n",
       "    </tr>\n",
       "    <tr>\n",
       "      <td>3</td>\n",
       "      <td>Lipids_and_lipid-like_molecule</td>\n",
       "      <td>Aconitum heterophyllum</td>\n",
       "      <td>Â Greenish Himalayan Monkshood</td>\n",
       "      <td>Lipids and lipid-like molecules</td>\n",
       "      <td>Â Prenol lipids</td>\n",
       "      <td>Hypaconitine</td>\n",
       "      <td>Â HYPACONITINE;HYPACONITINE;HYPACONITINE;HYPAC...</td>\n",
       "      <td>10008952</td>\n",
       "      <td>ABCG2</td>\n",
       "      <td>1dt6(-11.1)</td>\n",
       "      <td>1dt6</td>\n",
       "      <td>11.1</td>\n",
       "      <td>Lipids and lipid-like molecule</td>\n",
       "    </tr>\n",
       "    <tr>\n",
       "      <td>4</td>\n",
       "      <td>Lipids_and_lipid-like_molecule</td>\n",
       "      <td>Aconitum heterophyllum</td>\n",
       "      <td>Greenish Himalayan Monkshood</td>\n",
       "      <td>Lipids and lipid-like molecules</td>\n",
       "      <td>Prenol lipids</td>\n",
       "      <td>aconitine</td>\n",
       "      <td>ACONITINE;ACONITINE;ACONITINE;ACONITINES;ACONI...</td>\n",
       "      <td>118705467</td>\n",
       "      <td>CYP3A5</td>\n",
       "      <td>2v0m(-5.2)</td>\n",
       "      <td>2v0m</td>\n",
       "      <td>5.2</td>\n",
       "      <td>Lipids and lipid-like molecule</td>\n",
       "    </tr>\n",
       "  </tbody>\n",
       "</table>\n",
       "</div>"
      ],
      "text/plain": [
       "                           D_name                    NAME  \\\n",
       "0  Lipids_and_lipid-like_molecule  Aconitum heterophyllum   \n",
       "1  Lipids_and_lipid-like_molecule  Aconitum heterophyllum   \n",
       "2  Lipids_and_lipid-like_molecule  Aconitum heterophyllum   \n",
       "3  Lipids_and_lipid-like_molecule  Aconitum heterophyllum   \n",
       "4  Lipids_and_lipid-like_molecule  Aconitum heterophyllum   \n",
       "\n",
       "                      Common Name                       SUPERCLASS  \\\n",
       "0    Greenish Himalayan Monkshood  Lipids and lipid-like molecules   \n",
       "1  Â Greenish Himalayan Monkshood  Lipids and lipid-like molecules   \n",
       "2  Â Greenish Himalayan Monkshood  Lipids and lipid-like molecules   \n",
       "3  Â Greenish Himalayan Monkshood  Lipids and lipid-like molecules   \n",
       "4    Greenish Himalayan Monkshood  Lipids and lipid-like molecules   \n",
       "\n",
       "            CLASSS Compound Name  \\\n",
       "0    Prenol lipids     aconitine   \n",
       "1  Â Prenol lipids  Hypaconitine   \n",
       "2  Â Prenol lipids  Hypaconitine   \n",
       "3  Â Prenol lipids  Hypaconitine   \n",
       "4    Prenol lipids     aconitine   \n",
       "\n",
       "                                  Compound synonames Pubchem CID Target Gene  \\\n",
       "0  ACONITINE;ACONITINE;ACONITINE;ACONITINES;ACONI...   118705467       KCNH2   \n",
       "1  Â HYPACONITINE;HYPACONITINE;HYPACONITINE;HYPAC...    10008952       ABCB1   \n",
       "2  Â HYPACONITINE;HYPACONITINE;HYPACONITINE;HYPAC...    10008952       ABCB1   \n",
       "3  Â HYPACONITINE;HYPACONITINE;HYPACONITINE;HYPAC...    10008952       ABCG2   \n",
       "4  ACONITINE;ACONITINE;ACONITINE;ACONITINES;ACONI...   118705467      CYP3A5   \n",
       "\n",
       "       PDB ID     ID  score                        fileName  \n",
       "0   1byw(-4.8)  1byw    4.8  Lipids and lipid-like molecule  \n",
       "1   1ujl(-7.7)  1ujl    7.7  Lipids and lipid-like molecule  \n",
       "2  3ukv(-11.7)  3ukv   11.7  Lipids and lipid-like molecule  \n",
       "3  1dt6(-11.1)  1dt6   11.1  Lipids and lipid-like molecule  \n",
       "4   2v0m(-5.2)  2v0m    5.2  Lipids and lipid-like molecule  "
      ]
     },
     "execution_count": 37,
     "metadata": {},
     "output_type": "execute_result"
    }
   ],
   "source": [
    "mainFile.head()"
   ]
  },
  {
   "cell_type": "code",
   "execution_count": 38,
   "metadata": {},
   "outputs": [],
   "source": [
    "mainFile.to_csv(\"E://DATA Science//komal//f_done//mainFile.csv\")"
   ]
  },
  {
   "cell_type": "code",
   "execution_count": null,
   "metadata": {},
   "outputs": [],
   "source": []
  }
 ],
 "metadata": {
  "kernelspec": {
   "display_name": "Python 3",
   "language": "python",
   "name": "python3"
  },
  "language_info": {
   "codemirror_mode": {
    "name": "ipython",
    "version": 3
   },
   "file_extension": ".py",
   "mimetype": "text/x-python",
   "name": "python",
   "nbconvert_exporter": "python",
   "pygments_lexer": "ipython3",
   "version": "3.7.4"
  }
 },
 "nbformat": 4,
 "nbformat_minor": 2
}
