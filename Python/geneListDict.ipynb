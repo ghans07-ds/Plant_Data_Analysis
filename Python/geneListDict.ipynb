{
 "cells": [
  {
   "cell_type": "code",
   "execution_count": 180,
   "metadata": {},
   "outputs": [],
   "source": [
    "# importing important libraries.. \n",
    "import pandas as pd \n",
    "import  re"
   ]
  },
  {
   "cell_type": "code",
   "execution_count": 181,
   "metadata": {},
   "outputs": [],
   "source": [
    "# reading data from file..\n",
    "mainFile=pd.read_csv(\"E://DATA Science//komal//f_done//mainFile.csv\")"
   ]
  },
  {
   "cell_type": "code",
   "execution_count": 182,
   "metadata": {},
   "outputs": [],
   "source": [
    "mainFile.drop(['Unnamed: 0'],axis=1,inplace=True)  #removing unwanted column\n",
    "mainFile.reset_index(drop=True,inplace=True)     #reset index "
   ]
  },
  {
   "cell_type": "code",
   "execution_count": 199,
   "metadata": {},
   "outputs": [
    {
     "data": {
      "text/html": [
       "<div>\n",
       "<style scoped>\n",
       "    .dataframe tbody tr th:only-of-type {\n",
       "        vertical-align: middle;\n",
       "    }\n",
       "\n",
       "    .dataframe tbody tr th {\n",
       "        vertical-align: top;\n",
       "    }\n",
       "\n",
       "    .dataframe thead th {\n",
       "        text-align: right;\n",
       "    }\n",
       "</style>\n",
       "<table border=\"1\" class=\"dataframe\">\n",
       "  <thead>\n",
       "    <tr style=\"text-align: right;\">\n",
       "      <th></th>\n",
       "      <th>D_name</th>\n",
       "      <th>NAME</th>\n",
       "      <th>Common Name</th>\n",
       "      <th>SUPERCLASS</th>\n",
       "      <th>CLASSS</th>\n",
       "      <th>Compound Name</th>\n",
       "      <th>Compound synonames</th>\n",
       "      <th>Pubchem CID</th>\n",
       "      <th>Target Gene</th>\n",
       "      <th>PDB ID</th>\n",
       "      <th>ID</th>\n",
       "      <th>score</th>\n",
       "      <th>fileName</th>\n",
       "    </tr>\n",
       "  </thead>\n",
       "  <tbody>\n",
       "    <tr>\n",
       "      <td>0</td>\n",
       "      <td>Lipids_and_lipid-like_molecule</td>\n",
       "      <td>Aconitum heterophyllum</td>\n",
       "      <td>Greenish Himalayan Monkshood</td>\n",
       "      <td>Lipids and lipid-like molecules</td>\n",
       "      <td>Prenol lipids</td>\n",
       "      <td>aconitine</td>\n",
       "      <td>ACONITINE;ACONITINE;ACONITINE;ACONITINES;ACONI...</td>\n",
       "      <td>118705467</td>\n",
       "      <td>KCNH2</td>\n",
       "      <td>1byw(-4.8)</td>\n",
       "      <td>1byw</td>\n",
       "      <td>4.8</td>\n",
       "      <td>Lipids and lipid-like molecule</td>\n",
       "    </tr>\n",
       "    <tr>\n",
       "      <td>1</td>\n",
       "      <td>Lipids_and_lipid-like_molecule</td>\n",
       "      <td>Aconitum heterophyllum</td>\n",
       "      <td>Greenish Himalayan Monkshood</td>\n",
       "      <td>Lipids and lipid-like molecules</td>\n",
       "      <td>Â Prenol lipids</td>\n",
       "      <td>Hypaconitine</td>\n",
       "      <td>Â HYPACONITINE;HYPACONITINE;HYPACONITINE;HYPAC...</td>\n",
       "      <td>10008952</td>\n",
       "      <td>ABCB1</td>\n",
       "      <td>1ujl(-7.7)</td>\n",
       "      <td>1ujl</td>\n",
       "      <td>7.7</td>\n",
       "      <td>Lipids and lipid-like molecule</td>\n",
       "    </tr>\n",
       "    <tr>\n",
       "      <td>2</td>\n",
       "      <td>Lipids_and_lipid-like_molecule</td>\n",
       "      <td>Aconitum heterophyllum</td>\n",
       "      <td>Greenish Himalayan Monkshood</td>\n",
       "      <td>Lipids and lipid-like molecules</td>\n",
       "      <td>Â Prenol lipids</td>\n",
       "      <td>Hypaconitine</td>\n",
       "      <td>Â HYPACONITINE;HYPACONITINE;HYPACONITINE;HYPAC...</td>\n",
       "      <td>10008952</td>\n",
       "      <td>ABCB1</td>\n",
       "      <td>3ukv(-11.7)</td>\n",
       "      <td>3ukv</td>\n",
       "      <td>11.7</td>\n",
       "      <td>Lipids and lipid-like molecule</td>\n",
       "    </tr>\n",
       "    <tr>\n",
       "      <td>3</td>\n",
       "      <td>Lipids_and_lipid-like_molecule</td>\n",
       "      <td>Aconitum heterophyllum</td>\n",
       "      <td>Greenish Himalayan Monkshood</td>\n",
       "      <td>Lipids and lipid-like molecules</td>\n",
       "      <td>Â Prenol lipids</td>\n",
       "      <td>Hypaconitine</td>\n",
       "      <td>Â HYPACONITINE;HYPACONITINE;HYPACONITINE;HYPAC...</td>\n",
       "      <td>10008952</td>\n",
       "      <td>ABCG2</td>\n",
       "      <td>1dt6(-11.1)</td>\n",
       "      <td>1dt6</td>\n",
       "      <td>11.1</td>\n",
       "      <td>Lipids and lipid-like molecule</td>\n",
       "    </tr>\n",
       "    <tr>\n",
       "      <td>4</td>\n",
       "      <td>Lipids_and_lipid-like_molecule</td>\n",
       "      <td>Aconitum heterophyllum</td>\n",
       "      <td>Greenish Himalayan Monkshood</td>\n",
       "      <td>Lipids and lipid-like molecules</td>\n",
       "      <td>Prenol lipids</td>\n",
       "      <td>aconitine</td>\n",
       "      <td>ACONITINE;ACONITINE;ACONITINE;ACONITINES;ACONI...</td>\n",
       "      <td>118705467</td>\n",
       "      <td>CYP3A5</td>\n",
       "      <td>2v0m(-5.2)</td>\n",
       "      <td>2v0m</td>\n",
       "      <td>5.2</td>\n",
       "      <td>Lipids and lipid-like molecule</td>\n",
       "    </tr>\n",
       "  </tbody>\n",
       "</table>\n",
       "</div>"
      ],
      "text/plain": [
       "                           D_name                    NAME  \\\n",
       "0  Lipids_and_lipid-like_molecule  Aconitum heterophyllum   \n",
       "1  Lipids_and_lipid-like_molecule  Aconitum heterophyllum   \n",
       "2  Lipids_and_lipid-like_molecule  Aconitum heterophyllum   \n",
       "3  Lipids_and_lipid-like_molecule  Aconitum heterophyllum   \n",
       "4  Lipids_and_lipid-like_molecule  Aconitum heterophyllum   \n",
       "\n",
       "                    Common Name                       SUPERCLASS  \\\n",
       "0  Greenish Himalayan Monkshood  Lipids and lipid-like molecules   \n",
       "1  Greenish Himalayan Monkshood  Lipids and lipid-like molecules   \n",
       "2  Greenish Himalayan Monkshood  Lipids and lipid-like molecules   \n",
       "3  Greenish Himalayan Monkshood  Lipids and lipid-like molecules   \n",
       "4  Greenish Himalayan Monkshood  Lipids and lipid-like molecules   \n",
       "\n",
       "            CLASSS Compound Name  \\\n",
       "0    Prenol lipids     aconitine   \n",
       "1  Â Prenol lipids  Hypaconitine   \n",
       "2  Â Prenol lipids  Hypaconitine   \n",
       "3  Â Prenol lipids  Hypaconitine   \n",
       "4    Prenol lipids     aconitine   \n",
       "\n",
       "                                  Compound synonames Pubchem CID Target Gene  \\\n",
       "0  ACONITINE;ACONITINE;ACONITINE;ACONITINES;ACONI...   118705467       KCNH2   \n",
       "1  Â HYPACONITINE;HYPACONITINE;HYPACONITINE;HYPAC...    10008952       ABCB1   \n",
       "2  Â HYPACONITINE;HYPACONITINE;HYPACONITINE;HYPAC...    10008952       ABCB1   \n",
       "3  Â HYPACONITINE;HYPACONITINE;HYPACONITINE;HYPAC...    10008952       ABCG2   \n",
       "4  ACONITINE;ACONITINE;ACONITINE;ACONITINES;ACONI...   118705467      CYP3A5   \n",
       "\n",
       "       PDB ID     ID  score                        fileName  \n",
       "0   1byw(-4.8)  1byw    4.8  Lipids and lipid-like molecule  \n",
       "1   1ujl(-7.7)  1ujl    7.7  Lipids and lipid-like molecule  \n",
       "2  3ukv(-11.7)  3ukv   11.7  Lipids and lipid-like molecule  \n",
       "3  1dt6(-11.1)  1dt6   11.1  Lipids and lipid-like molecule  \n",
       "4   2v0m(-5.2)  2v0m    5.2  Lipids and lipid-like molecule  "
      ]
     },
     "execution_count": 199,
     "metadata": {},
     "output_type": "execute_result"
    }
   ],
   "source": [
    "mainFile.head()"
   ]
  },
  {
   "cell_type": "code",
   "execution_count": 184,
   "metadata": {},
   "outputs": [
    {
     "name": "stderr",
     "output_type": "stream",
     "text": [
      "C:\\Users\\dell\\Anaconda3\\lib\\site-packages\\ipykernel_launcher.py:3: SettingWithCopyWarning: \n",
      "A value is trying to be set on a copy of a slice from a DataFrame\n",
      "\n",
      "See the caveats in the documentation: http://pandas.pydata.org/pandas-docs/stable/user_guide/indexing.html#returning-a-view-versus-a-copy\n",
      "  This is separate from the ipykernel package so we can avoid doing imports until\n"
     ]
    }
   ],
   "source": [
    "# Think twice when you will edit this cell...............basic changes..\n",
    "for i in range(len(mainFile)):\n",
    "    if \"Â\" in mainFile[\"Common Name\"][i]:\n",
    "        mainFile[\"Common Name\"][i]=mainFile[\"Common Name\"][i][2:]"
   ]
  },
  {
   "cell_type": "code",
   "execution_count": 185,
   "metadata": {},
   "outputs": [
    {
     "name": "stderr",
     "output_type": "stream",
     "text": [
      "C:\\Users\\dell\\Anaconda3\\lib\\site-packages\\ipykernel_launcher.py:4: SettingWithCopyWarning: \n",
      "A value is trying to be set on a copy of a slice from a DataFrame\n",
      "\n",
      "See the caveats in the documentation: http://pandas.pydata.org/pandas-docs/stable/user_guide/indexing.html#returning-a-view-versus-a-copy\n",
      "  after removing the cwd from sys.path.\n"
     ]
    }
   ],
   "source": [
    "# Think twice when you will edit this cell...............basic changes..\n",
    "for i in range(len(mainFile)):\n",
    "    if \"Â\" in mainFile[\"Target Gene\"][i]:\n",
    "        mainFile[\"Target Gene\"][i]=mainFile[\"Target Gene\"][i][2:]\n",
    "#         print(mainFile[\"Target Gene\"][i])"
   ]
  },
  {
   "cell_type": "code",
   "execution_count": 201,
   "metadata": {},
   "outputs": [
    {
     "name": "stderr",
     "output_type": "stream",
     "text": [
      "C:\\Users\\dell\\Anaconda3\\lib\\site-packages\\ipykernel_launcher.py:7: SettingWithCopyWarning: \n",
      "A value is trying to be set on a copy of a slice from a DataFrame\n",
      "\n",
      "See the caveats in the documentation: http://pandas.pydata.org/pandas-docs/stable/user_guide/indexing.html#returning-a-view-versus-a-copy\n",
      "  import sys\n",
      "C:\\Users\\dell\\Anaconda3\\lib\\site-packages\\ipykernel_launcher.py:8: SettingWithCopyWarning: \n",
      "A value is trying to be set on a copy of a slice from a DataFrame\n",
      "\n",
      "See the caveats in the documentation: http://pandas.pydata.org/pandas-docs/stable/user_guide/indexing.html#returning-a-view-versus-a-copy\n",
      "  \n"
     ]
    }
   ],
   "source": [
    "# Think twice when you will edit this cell...............basic changes..\n",
    "regex=r'([\\W]{1,10}[a-bA-Z\\d]{0,10}[\\W]{1,10})'\n",
    "for i in range(len(mainFile)):\n",
    "    if re.search(regex,mainFile['Target Gene'][i]) is not None:\n",
    "#         print(i)\n",
    "        continue;\n",
    "mainFile['Target Gene'][258]=\"MRI1\"  #changes are made according above condition..\n",
    "mainFile['Target Gene'][404]=\"LCAT\"  #changes are made according above condition.."
   ]
  },
  {
   "cell_type": "code",
   "execution_count": 191,
   "metadata": {},
   "outputs": [],
   "source": [
    "# Think twice when you will edit this cell...............\n",
    "plantName=list(mainFile['NAME'].unique())\n",
    "tempList=[]\n",
    "plantNameId=dict()\n",
    "for i in range(len(mainFile)):\n",
    "    if i==0:\n",
    "        tempList.append(mainFile[\"Target Gene\"][i].strip())\n",
    "        temp=mainFile[\"NAME\"][i]\n",
    "    else:\n",
    "        if (temp.strip())==(mainFile[\"NAME\"][i].strip()):\n",
    "            tempList.append(mainFile[\"Target Gene\"][i].strip())\n",
    "        else:\n",
    "            plantNameId[temp.strip()]=tempList\n",
    "            tempList=[]\n",
    "            temp=mainFile[\"NAME\"][i]\n",
    "            tempList.append(mainFile[\"Target Gene\"][i].strip())\n",
    "plantNameId[temp.strip()]=tempList\n",
    "\n",
    "# Some changes due to format\n",
    "for i in range(len(plantNameId['Crocus sativus'])):\n",
    "    if plantNameId['Crocus sativus'][i]==\"MAPK8,TP53,TIMP1,COL1A1\":\n",
    "        plantNameId['Crocus sativus'][i]=\"TIMP1\""
   ]
  },
  {
   "cell_type": "code",
   "execution_count": 197,
   "metadata": {},
   "outputs": [],
   "source": [
    "# for uniqueness in geneList.....\n",
    "for i in plantNameId:\n",
    "    plantNameId[i]=list(set(plantNameId[i]))"
   ]
  },
  {
   "cell_type": "code",
   "execution_count": 202,
   "metadata": {},
   "outputs": [],
   "source": [
    "geneList=pd.DataFrame(columns=['plantName','geneList'])"
   ]
  },
  {
   "cell_type": "code",
   "execution_count": 215,
   "metadata": {},
   "outputs": [],
   "source": [
    "geneList['plantName']=list(plantNameId.keys())\n",
    "geneList['geneList']=list(plantNameId.values())"
   ]
  },
  {
   "cell_type": "code",
   "execution_count": 222,
   "metadata": {},
   "outputs": [
    {
     "data": {
      "text/html": [
       "<div>\n",
       "<style scoped>\n",
       "    .dataframe tbody tr th:only-of-type {\n",
       "        vertical-align: middle;\n",
       "    }\n",
       "\n",
       "    .dataframe tbody tr th {\n",
       "        vertical-align: top;\n",
       "    }\n",
       "\n",
       "    .dataframe thead th {\n",
       "        text-align: right;\n",
       "    }\n",
       "</style>\n",
       "<table border=\"1\" class=\"dataframe\">\n",
       "  <thead>\n",
       "    <tr style=\"text-align: right;\">\n",
       "      <th></th>\n",
       "      <th>plantName</th>\n",
       "      <th>geneList</th>\n",
       "    </tr>\n",
       "  </thead>\n",
       "  <tbody>\n",
       "    <tr>\n",
       "      <td>0</td>\n",
       "      <td>Aconitum heterophyllum</td>\n",
       "      <td>[TH, TMPRSS11D, CYP2C9, NR1I2, CYP2C8, UQCRFS1...</td>\n",
       "    </tr>\n",
       "    <tr>\n",
       "      <td>1</td>\n",
       "      <td>Aegle marmelos</td>\n",
       "      <td>[MMP8, CYP1A2, MAOA, TRPA1, CASP1, DAO, TYMS, ...</td>\n",
       "    </tr>\n",
       "    <tr>\n",
       "      <td>2</td>\n",
       "      <td>Aloe vera</td>\n",
       "      <td>[TH, GALT, XDH, ACACB, TH-TYR, MSM01, GPX1, CA...</td>\n",
       "    </tr>\n",
       "    <tr>\n",
       "      <td>3</td>\n",
       "      <td>Andrographis paniculata</td>\n",
       "      <td>[UGT2B15, TMPRSS11D, HSPA4, MMP9, CCL2, F3, MA...</td>\n",
       "    </tr>\n",
       "    <tr>\n",
       "      <td>4</td>\n",
       "      <td>Artemisia annua</td>\n",
       "      <td>[AKR1B1, HMBS, MMP7, AKR1A1, AKR1E2]</td>\n",
       "    </tr>\n",
       "  </tbody>\n",
       "</table>\n",
       "</div>"
      ],
      "text/plain": [
       "                 plantName                                           geneList\n",
       "0   Aconitum heterophyllum  [TH, TMPRSS11D, CYP2C9, NR1I2, CYP2C8, UQCRFS1...\n",
       "1           Aegle marmelos  [MMP8, CYP1A2, MAOA, TRPA1, CASP1, DAO, TYMS, ...\n",
       "2                Aloe vera  [TH, GALT, XDH, ACACB, TH-TYR, MSM01, GPX1, CA...\n",
       "3  Andrographis paniculata  [UGT2B15, TMPRSS11D, HSPA4, MMP9, CCL2, F3, MA...\n",
       "4          Artemisia annua               [AKR1B1, HMBS, MMP7, AKR1A1, AKR1E2]"
      ]
     },
     "execution_count": 222,
     "metadata": {},
     "output_type": "execute_result"
    }
   ],
   "source": [
    "geneList.head()"
   ]
  },
  {
   "cell_type": "code",
   "execution_count": 223,
   "metadata": {},
   "outputs": [],
   "source": [
    "geneList.to_csv(\"E://DATA Science//komal//f_done//geneList.csv\")"
   ]
  },
  {
   "cell_type": "code",
   "execution_count": null,
   "metadata": {},
   "outputs": [],
   "source": []
  }
 ],
 "metadata": {
  "kernelspec": {
   "display_name": "Python 3",
   "language": "python",
   "name": "python3"
  },
  "language_info": {
   "codemirror_mode": {
    "name": "ipython",
    "version": 3
   },
   "file_extension": ".py",
   "mimetype": "text/x-python",
   "name": "python",
   "nbconvert_exporter": "python",
   "pygments_lexer": "ipython3",
   "version": "3.7.4"
  }
 },
 "nbformat": 4,
 "nbformat_minor": 2
}
